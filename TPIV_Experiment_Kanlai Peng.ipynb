{
 "cells": [
  {
   "cell_type": "code",
   "execution_count": 1,
   "id": "944b7910",
   "metadata": {},
   "outputs": [],
   "source": [
    "import torch\n",
    "from torch import nn\n",
    "import torch.optim as optim\n",
    "import numpy as np\n",
    "import matplotlib.pyplot as plt"
   ]
  },
  {
   "cell_type": "code",
   "execution_count": 19,
   "id": "9166b5b0",
   "metadata": {},
   "outputs": [],
   "source": [
    "d = 1000\n",
    "n = 20\n",
    "\n",
    "covariance_V = torch.cat((torch.ones(10),torch.ones(d-10)*0.1))\n",
    "\n",
    "x_train = torch.randn((n,d))*covariance_V\n",
    "\n",
    "x_test = torch.randn((n,d))*covariance_V\n",
    "\n",
    "beta = torch.zeros(d)\n",
    "\n",
    "beta[0] = 1\n",
    "  \n",
    "labels_train_A = beta@x_train.T\n",
    "labels_train_B = torch.sign(beta@x_train.T)\n",
    "\n",
    "labels_test_A = beta@x_test.T\n",
    "labels_test_B = torch.sign(beta@x_test.T)"
   ]
  },
  {
   "cell_type": "code",
   "execution_count": 20,
   "id": "a9719986",
   "metadata": {},
   "outputs": [],
   "source": [
    "model_real = nn.Sequential(nn.Linear(d,1,bias=False))\n",
    "model_ideal = nn.Sequential(nn.Linear(d,1,bias=False))\n",
    "\n",
    "loss_function = nn.MSELoss()\n",
    "\n",
    "learning_rate = 0.01\n",
    "\n",
    "optimizer_real = optim.SGD(model_real.parameters(), lr=learning_rate)\n",
    "optimizer_ideal = optim.SGD(model_ideal.parameters(), lr=learning_rate)"
   ]
  },
  {
   "cell_type": "markdown",
   "id": "51ef413f",
   "metadata": {},
   "source": [
    "## Toy setting A: Linear activation"
   ]
  },
  {
   "cell_type": "code",
   "execution_count": 21,
   "id": "af45605d",
   "metadata": {},
   "outputs": [
    {
     "name": "stdout",
     "output_type": "stream",
     "text": [
      "Step    1 \t train loss 0.86413 \t test loss real0.55515\n",
      "Step   21 \t train loss 0.24569 \t test loss real0.35297\n",
      "Step   41 \t train loss 0.09163 \t test loss real0.25809\n",
      "Step   61 \t train loss 0.03971 \t test loss real0.20578\n",
      "Step   81 \t train loss 0.01865 \t test loss real0.17487\n",
      "Step  101 \t train loss 0.00921 \t test loss real0.15578\n",
      "Step  121 \t train loss 0.00473 \t test loss real0.14357\n",
      "Step  141 \t train loss 0.00251 \t test loss real0.13555\n",
      "Step  161 \t train loss 0.00138 \t test loss real0.13015\n",
      "Step  181 \t train loss 0.00078 \t test loss real0.12647\n",
      "Step  201 \t train loss 0.00045 \t test loss real0.12391\n",
      "Step  221 \t train loss 0.00027 \t test loss real0.12212\n",
      "Step  241 \t train loss 0.00016 \t test loss real0.12084\n",
      "Step  261 \t train loss 0.00010 \t test loss real0.11993\n",
      "Step  281 \t train loss 0.00006 \t test loss real0.11927\n",
      "Step  301 \t train loss 0.00004 \t test loss real0.11880\n",
      "Step  321 \t train loss 0.00003 \t test loss real0.11845\n",
      "Step  341 \t train loss 0.00002 \t test loss real0.11819\n",
      "Step  361 \t train loss 0.00001 \t test loss real0.11800\n",
      "Step  381 \t train loss 0.00001 \t test loss real0.11785\n",
      "Step  401 \t train loss 0.00000 \t test loss real0.11774\n",
      "Step  421 \t train loss 0.00000 \t test loss real0.11766\n",
      "Step  441 \t train loss 0.00000 \t test loss real0.11760\n",
      "Step  461 \t train loss 0.00000 \t test loss real0.11755\n",
      "Step  481 \t train loss 0.00000 \t test loss real0.11752\n",
      "Step  501 \t train loss 0.00000 \t test loss real0.11749\n",
      "Step  521 \t train loss 0.00000 \t test loss real0.11747\n",
      "Step  541 \t train loss 0.00000 \t test loss real0.11745\n",
      "Step  561 \t train loss 0.00000 \t test loss real0.11744\n",
      "Step  581 \t train loss 0.00000 \t test loss real0.11742\n",
      "Step  601 \t train loss 0.00000 \t test loss real0.11742\n",
      "Step  621 \t train loss 0.00000 \t test loss real0.11741\n",
      "Step  641 \t train loss 0.00000 \t test loss real0.11740\n",
      "Step  661 \t train loss 0.00000 \t test loss real0.11740\n",
      "Step  681 \t train loss 0.00000 \t test loss real0.11740\n",
      "Step  701 \t train loss 0.00000 \t test loss real0.11739\n",
      "Step  721 \t train loss 0.00000 \t test loss real0.11739\n",
      "Step  741 \t train loss 0.00000 \t test loss real0.11739\n",
      "Step  761 \t train loss 0.00000 \t test loss real0.11739\n",
      "Step  781 \t train loss 0.00000 \t test loss real0.11739\n",
      "Step  801 \t train loss 0.00000 \t test loss real0.11739\n",
      "Step  821 \t train loss 0.00000 \t test loss real0.11738\n",
      "Step  841 \t train loss 0.00000 \t test loss real0.11738\n",
      "Step  861 \t train loss 0.00000 \t test loss real0.11738\n",
      "Step  881 \t train loss 0.00000 \t test loss real0.11738\n",
      "Step  901 \t train loss 0.00000 \t test loss real0.11738\n",
      "Step  921 \t train loss 0.00000 \t test loss real0.11738\n",
      "Step  941 \t train loss 0.00000 \t test loss real0.11738\n",
      "Step  961 \t train loss 0.00000 \t test loss real0.11738\n",
      "Step  981 \t train loss 0.00000 \t test loss real0.11738\n"
     ]
    }
   ],
   "source": [
    "num_steps = 1000\n",
    "\n",
    "Ltr = []\n",
    "Lte_real = []\n",
    "\n",
    "for step in range(num_steps):\n",
    "\n",
    "    optimizer_real.zero_grad() \n",
    "    loss_train = loss_function(labels_train_A.squeeze(), model_real(x_train).squeeze())\n",
    "    loss_train.backward() \n",
    "    optimizer_real.step() \n",
    "\n",
    "    loss_test_real = loss_function(labels_test_A.squeeze(), model_real(x_test).squeeze())\n",
    "    \n",
    "    Ltr.append(loss_train.item())\n",
    "    Lte_real.append(loss_test_real.item())\n",
    "\n",
    "    if step % 20 == 0: print('Step {:4} \\t train loss {:.5f} \\t test loss real{:.5f}'.format((step+1), loss_train.item(), loss_test_real.item()))\n"
   ]
  },
  {
   "cell_type": "code",
   "execution_count": 22,
   "id": "2e964af2",
   "metadata": {},
   "outputs": [
    {
     "name": "stdout",
     "output_type": "stream",
     "text": [
      "Step    1 \t train loss 0.67419 \t test loss ideal 0.74882\n",
      "Step   21 \t train loss 0.46923 \t test loss ideal 0.48531\n",
      "Step   41 \t train loss 0.19738 \t test loss ideal 0.16244\n",
      "Step   61 \t train loss 0.12831 \t test loss ideal 0.08759\n",
      "Step   81 \t train loss 0.02913 \t test loss ideal 0.06299\n",
      "Step  101 \t train loss 0.01412 \t test loss ideal 0.01492\n",
      "Step  121 \t train loss 0.01187 \t test loss ideal 0.01081\n",
      "Step  141 \t train loss 0.00460 \t test loss ideal 0.00719\n",
      "Step  161 \t train loss 0.00416 \t test loss ideal 0.00835\n",
      "Step  181 \t train loss 0.00292 \t test loss ideal 0.00240\n",
      "Step  201 \t train loss 0.00438 \t test loss ideal 0.00545\n",
      "Step  221 \t train loss 0.00277 \t test loss ideal 0.00424\n",
      "Step  241 \t train loss 0.00389 \t test loss ideal 0.00260\n",
      "Step  261 \t train loss 0.00375 \t test loss ideal 0.00384\n",
      "Step  281 \t train loss 0.00248 \t test loss ideal 0.00263\n",
      "Step  301 \t train loss 0.00291 \t test loss ideal 0.00303\n",
      "Step  321 \t train loss 0.00317 \t test loss ideal 0.00136\n",
      "Step  341 \t train loss 0.00170 \t test loss ideal 0.00136\n",
      "Step  361 \t train loss 0.00342 \t test loss ideal 0.00324\n",
      "Step  381 \t train loss 0.00325 \t test loss ideal 0.00208\n",
      "Step  401 \t train loss 0.00307 \t test loss ideal 0.00157\n",
      "Step  421 \t train loss 0.00167 \t test loss ideal 0.00349\n",
      "Step  441 \t train loss 0.00361 \t test loss ideal 0.00179\n",
      "Step  461 \t train loss 0.00416 \t test loss ideal 0.00327\n",
      "Step  481 \t train loss 0.00217 \t test loss ideal 0.00404\n",
      "Step  501 \t train loss 0.00270 \t test loss ideal 0.00232\n",
      "Step  521 \t train loss 0.00294 \t test loss ideal 0.00233\n",
      "Step  541 \t train loss 0.00317 \t test loss ideal 0.00266\n",
      "Step  561 \t train loss 0.00211 \t test loss ideal 0.00272\n",
      "Step  581 \t train loss 0.00317 \t test loss ideal 0.00353\n",
      "Step  601 \t train loss 0.00329 \t test loss ideal 0.00264\n",
      "Step  621 \t train loss 0.00375 \t test loss ideal 0.00076\n",
      "Step  641 \t train loss 0.00320 \t test loss ideal 0.00411\n",
      "Step  661 \t train loss 0.00240 \t test loss ideal 0.00398\n",
      "Step  681 \t train loss 0.00229 \t test loss ideal 0.00183\n",
      "Step  701 \t train loss 0.00319 \t test loss ideal 0.00249\n",
      "Step  721 \t train loss 0.00309 \t test loss ideal 0.00152\n",
      "Step  741 \t train loss 0.00454 \t test loss ideal 0.00138\n",
      "Step  761 \t train loss 0.00254 \t test loss ideal 0.00261\n",
      "Step  781 \t train loss 0.00201 \t test loss ideal 0.00279\n",
      "Step  801 \t train loss 0.00158 \t test loss ideal 0.00202\n",
      "Step  821 \t train loss 0.00355 \t test loss ideal 0.00236\n",
      "Step  841 \t train loss 0.00262 \t test loss ideal 0.00192\n",
      "Step  861 \t train loss 0.00297 \t test loss ideal 0.00275\n",
      "Step  881 \t train loss 0.00199 \t test loss ideal 0.00177\n",
      "Step  901 \t train loss 0.00162 \t test loss ideal 0.00195\n",
      "Step  921 \t train loss 0.00210 \t test loss ideal 0.00228\n",
      "Step  941 \t train loss 0.00342 \t test loss ideal 0.00323\n",
      "Step  961 \t train loss 0.00293 \t test loss ideal 0.00254\n",
      "Step  981 \t train loss 0.00277 \t test loss ideal 0.00255\n"
     ]
    }
   ],
   "source": [
    "Lte_ideal=[]\n",
    "\n",
    "for step in range(num_steps):\n",
    "    \n",
    "    covariance_V = torch.cat((torch.ones(10),torch.ones(d-10)*0.1))\n",
    "\n",
    "    x_train = torch.randn((n,d))*covariance_V\n",
    "\n",
    "    x_test = torch.randn((n,d))*covariance_V\n",
    "\n",
    "    labels_train_A = beta@x_train.T\n",
    "    labels_test_A = beta@x_test.T\n",
    "    \n",
    "    optimizer_ideal.zero_grad() \n",
    "    loss_train = loss_function(labels_train_A.squeeze(), model_ideal(x_train).squeeze())\n",
    "    loss_train.backward() \n",
    "    optimizer_ideal.step() \n",
    "\n",
    "    loss_test_ideal = loss_function(labels_test_A.squeeze(), model_ideal(x_test).squeeze())\n",
    "    \n",
    "    Lte_ideal.append(loss_test_ideal.item())\n",
    "    \n",
    "    if step % 20 == 0: print('Step {:4} \\t train loss {:.5f} \\t test loss ideal {:.5f}'.format((step+1), loss_train.item(), loss_test_ideal.item()))\n",
    "    \n"
   ]
  },
  {
   "cell_type": "code",
   "execution_count": 23,
   "id": "02ff20a2",
   "metadata": {},
   "outputs": [
    {
     "data": {
      "image/png": "[encoded data removed]",
      "text/plain": [
       "<Figure size 720x504 with 1 Axes>"
      ]
     },
     "metadata": {
      "needs_background": "light"
     },
     "output_type": "display_data"
    }
   ],
   "source": [
    "plt.figure(figsize=(10,7))\n",
    "plt.plot(torch.arange(num_steps), Ltr, '.', label='Train')\n",
    "plt.plot(torch.arange(num_steps), Lte_real, '.', label='Real Test ')\n",
    "plt.plot(torch.arange(num_steps), Lte_ideal, '.', label='Ideal Test')\n",
    "plt.title('Real vs Ideal: Toy Setting A',fontsize=16)\n",
    "plt.xlabel('GD Iterations',fontsize=16)\n",
    "plt.ylabel('Test MSE',fontsize=16)\n",
    "plt.legend(fontsize=16)\n",
    "plt.savefig('1.jpg')\n",
    "plt.show()"
   ]
  },
  {
   "cell_type": "markdown",
   "id": "a3b5ddfe",
   "metadata": {},
   "source": [
    "## Toy setting B: Sign activation"
   ]
  },
  {
   "cell_type": "code",
   "execution_count": 52,
   "id": "9a91bfef",
   "metadata": {},
   "outputs": [],
   "source": [
    "model_real = nn.Sequential(nn.Linear(d,1,bias=False))\n",
    "model_ideal = nn.Sequential(nn.Linear(d,1,bias=False))\n",
    "\n",
    "loss_function = nn.MSELoss()\n",
    "\n",
    "learning_rate = 0.01\n",
    "\n",
    "optimizer_real = optim.SGD(model_real.parameters(), lr=learning_rate)\n",
    "optimizer_ideal = optim.SGD(model_ideal.parameters(), lr=learning_rate)"
   ]
  },
  {
   "cell_type": "code",
   "execution_count": 53,
   "id": "4552e430",
   "metadata": {},
   "outputs": [
    {
     "name": "stdout",
     "output_type": "stream",
     "text": [
      "Step    1 \t train loss 0.93765 \t test loss real0.97944\n",
      "Step   21 \t train loss 0.35706 \t test loss real0.69403\n",
      "Step   41 \t train loss 0.15840 \t test loss real0.57953\n",
      "Step   61 \t train loss 0.08009 \t test loss real0.52878\n",
      "Step   81 \t train loss 0.04490 \t test loss real0.50455\n",
      "Step  101 \t train loss 0.02705 \t test loss real0.49225\n",
      "Step  121 \t train loss 0.01707 \t test loss real0.48564\n",
      "Step  141 \t train loss 0.01109 \t test loss real0.48189\n",
      "Step  161 \t train loss 0.00734 \t test loss real0.47962\n",
      "Step  181 \t train loss 0.00491 \t test loss real0.47815\n",
      "Step  201 \t train loss 0.00332 \t test loss real0.47712\n",
      "Step  221 \t train loss 0.00226 \t test loss real0.47636\n",
      "Step  241 \t train loss 0.00154 \t test loss real0.47576\n",
      "Step  261 \t train loss 0.00106 \t test loss real0.47527\n",
      "Step  281 \t train loss 0.00073 \t test loss real0.47487\n"
     ]
    }
   ],
   "source": [
    "num_steps = 300\n",
    "\n",
    "Ltr = []\n",
    "Lte_real = []\n",
    "\n",
    "for step in range(num_steps):\n",
    "\n",
    "    optimizer_real.zero_grad() \n",
    "    loss_train = loss_function(labels_train_B.squeeze(), model_real(x_train).squeeze())\n",
    "    loss_train.backward() \n",
    "    optimizer_real.step() \n",
    "\n",
    "    loss_test_real = loss_function(labels_test_B.squeeze(), model_real(x_test).squeeze())\n",
    "    \n",
    "    Ltr.append(loss_train.item())\n",
    "    Lte_real.append(loss_test_real.item())\n",
    "\n",
    "    if step % 20 == 0: print('Step {:4} \\t train loss {:.5f} \\t test loss real{:.5f}'.format((step+1), loss_train.item(), loss_test_real.item()))\n"
   ]
  },
  {
   "cell_type": "code",
   "execution_count": 54,
   "id": "a2a21c10",
   "metadata": {},
   "outputs": [
    {
     "name": "stdout",
     "output_type": "stream",
     "text": [
      "Step    1 \t train loss 1.11319 \t test loss ideal 1.02385\n",
      "Step   21 \t train loss 0.61806 \t test loss ideal 0.64514\n",
      "Step   41 \t train loss 0.49254 \t test loss ideal 0.47921\n",
      "Step   61 \t train loss 0.42939 \t test loss ideal 0.41063\n",
      "Step   81 \t train loss 0.43397 \t test loss ideal 0.38104\n",
      "Step  101 \t train loss 0.33604 \t test loss ideal 0.36093\n",
      "Step  121 \t train loss 0.33599 \t test loss ideal 0.34391\n",
      "Step  141 \t train loss 0.21374 \t test loss ideal 0.34716\n",
      "Step  161 \t train loss 0.33351 \t test loss ideal 0.35265\n",
      "Step  181 \t train loss 0.45068 \t test loss ideal 0.33982\n",
      "Step  201 \t train loss 0.37248 \t test loss ideal 0.34503\n",
      "Step  221 \t train loss 0.34826 \t test loss ideal 0.35023\n",
      "Step  241 \t train loss 0.37096 \t test loss ideal 0.35103\n",
      "Step  261 \t train loss 0.55928 \t test loss ideal 0.35226\n",
      "Step  281 \t train loss 0.32863 \t test loss ideal 0.34574\n"
     ]
    }
   ],
   "source": [
    "Lte_ideal=[]\n",
    "\n",
    "x_test = torch.randn((n,d))*covariance_V\n",
    "labels_test_B = torch.sign(beta@x_test.T)\n",
    "\n",
    "for step in range(num_steps):\n",
    "    \n",
    "    covariance_V = torch.cat((torch.ones(10),torch.ones(d-10)*0.1))\n",
    "\n",
    "    x_train = torch.randn((n,d))*covariance_V\n",
    "\n",
    "    labels_train_B = torch.sign(beta@x_train.T)\n",
    "    \n",
    "    optimizer_ideal.zero_grad() \n",
    "    loss_train = loss_function(labels_train_B.squeeze(), model_ideal(x_train).squeeze())\n",
    "    loss_train.backward() \n",
    "    optimizer_ideal.step() \n",
    "\n",
    "    loss_test_ideal = loss_function(labels_test_B.squeeze(), model_ideal(x_test).squeeze())\n",
    "    \n",
    "    Lte_ideal.append(loss_test_ideal.item())\n",
    "    \n",
    "    if step % 20 == 0: print('Step {:4} \\t train loss {:.5f} \\t test loss ideal {:.5f}'.format((step+1), loss_train.item(), loss_test_ideal.item()))"
   ]
  },
  {
   "cell_type": "code",
   "execution_count": 55,
   "id": "917f695e",
   "metadata": {},
   "outputs": [
    {
     "data": {
      "image/png": "[encoded data removed]",
      "text/plain": [
       "<Figure size 720x504 with 1 Axes>"
      ]
     },
     "metadata": {
      "needs_background": "light"
     },
     "output_type": "display_data"
    }
   ],
   "source": [
    "plt.figure(figsize=(10,7))\n",
    "plt.plot(torch.arange(num_steps), Ltr, '-', label='Train')\n",
    "plt.plot(torch.arange(num_steps), Lte_real, '-', label='Real Test ')\n",
    "plt.plot(torch.arange(num_steps), Lte_ideal, '--', label='Ideal Test')\n",
    "plt.title('Real vs Ideal: Toy Setting B',fontsize=16)\n",
    "plt.xlabel('GD Iterations',fontsize=16)\n",
    "plt.ylabel('Test MSE',fontsize=16)\n",
    "plt.ylim(0,1)\n",
    "plt.legend(fontsize=16,loc='upper right')\n",
    "plt.savefig('2.jpg')\n",
    "plt.show()"
   ]
  },
  {
   "cell_type": "code",
   "execution_count": null,
   "id": "ee9fdf09",
   "metadata": {},
   "outputs": [],
   "source": []
  }
 ],
 "metadata": {
  "kernelspec": {
   "display_name": "Python 3",
   "language": "python",
   "name": "python3"
  },
  "language_info": {
   "codemirror_mode": {
    "name": "ipython",
    "version": 3
   },
   "file_extension": ".py",
   "mimetype": "text/x-python",
   "name": "python",
   "nbconvert_exporter": "python",
   "pygments_lexer": "ipython3",
   "version": "3.9.4"
  }
 },
 "nbformat": 4,
 "nbformat_minor": 5
}
